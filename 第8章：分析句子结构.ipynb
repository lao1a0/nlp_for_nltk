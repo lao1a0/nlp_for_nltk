{
 "cells": [
  {
   "cell_type": "code",
   "execution_count": null,
   "metadata": {},
   "outputs": [],
   "source": [
    "import nltk"
   ]
  },
  {
   "cell_type": "markdown",
   "metadata": {},
   "source": [
    "# 8.1 一些语法困境"
   ]
  },
  {
   "cell_type": "markdown",
   "metadata": {},
   "source": [
    "## 8.1.1 普遍存在的歧义"
   ]
  },
  {
   "cell_type": "code",
   "execution_count": 3,
   "metadata": {},
   "outputs": [],
   "source": [
    "groucho_grammar = nltk.CFG.fromstring('''\n",
    "S -> NP VP\n",
    "PP -> P NP\n",
    "NP -> Det N | Det N PP | \"I\"\n",
    "VP -> V NP | VP PP\n",
    "Det -> \"an\" | \"my\"\n",
    "N -> \"elephant\" | \"pajamas\"\n",
    "V -> \"shot\"\n",
    "P -> \"in\"\n",
    "''')"
   ]
  },
  {
   "cell_type": "code",
   "execution_count": 5,
   "metadata": {},
   "outputs": [
    {
     "name": "stdout",
     "output_type": "stream",
     "text": [
      "(S\n",
      "  (NP I)\n",
      "  (VP\n",
      "    (VP (V shot) (NP (Det an) (N elephant)))\n",
      "    (PP (P in) (NP (Det my) (N pajamas)))))\n",
      "(S\n",
      "  (NP I)\n",
      "  (VP\n",
      "    (V shot)\n",
      "    (NP (Det an) (N elephant) (PP (P in) (NP (Det my) (N pajamas))))))\n"
     ]
    }
   ],
   "source": [
    "# 基于一种文法解析句子，可能会解析出两种结构\n",
    "sent = ['I', 'shot', 'an', 'elephant', 'in', 'my', 'pajamas']\n",
    "parser = nltk.ChartParser(groucho_grammar)  # 图解析\n",
    "for i, tree in enumerate(parser.parse(sent)):\n",
    "    print(tree)"
   ]
  },
  {
   "cell_type": "markdown",
   "metadata": {},
   "source": [
    "# 8.3 上下文无关文法（context-free grammars，CFG）"
   ]
  },
  {
   "cell_type": "markdown",
   "metadata": {},
   "source": [
    "## 8.3.1 一种简单的文法"
   ]
  },
  {
   "cell_type": "code",
   "execution_count": 6,
   "metadata": {},
   "outputs": [],
   "source": [
    "# Ex8-1 一个简单的上下文无关文法的例子\n",
    "grammar1 = nltk.CFG.fromstring(\"\"\"\n",
    "S -> NP VP\n",
    "VP -> V NP | V NP PP\n",
    "PP -> P NP\n",
    "V -> \"saw\" | \"ate\" | \"walked\"\n",
    "NP -> \"John\" | \"Mary\" | \"Bob\" | Det N | Det N PP\n",
    "Det -> \"a\" | \"an\" | \"the\" | \"my\" | \"The\"\n",
    "N -> \"man\" | \"dog\" | \"cat\" | \"telescope\" | \"park\"\n",
    "P -> \"in\" | \"on\" | \"by\" | \"with\"\n",
    "\"\"\")"
   ]
  },
  {
   "cell_type": "code",
   "execution_count": 7,
   "metadata": {},
   "outputs": [
    {
     "name": "stdout",
     "output_type": "stream",
     "text": [
      "(S\n",
      "  (NP (Det The) (N dog))\n",
      "  (VP\n",
      "    (V saw)\n",
      "    (NP (Det a) (N man) (PP (P in) (NP (Det the) (N park))))))\n",
      "(S\n",
      "  (NP (Det The) (N dog))\n",
      "  (VP\n",
      "    (V saw)\n",
      "    (NP (Det a) (N man))\n",
      "    (PP (P in) (NP (Det the) (N park)))))\n"
     ]
    }
   ],
   "source": [
    "# 句子剖析会出现两个符合文法规则的结果，称为结构上有歧义。这个歧义称为介词短语附着歧义。\n",
    "sent = 'The dog saw a man in the park'.split()\n",
    "rd_parser = nltk.RecursiveDescentParser(grammar1)  # 递归下降解析器 RecursiveDescentParser()\n",
    "for i, tree in enumerate(rd_parser.parse(sent)):\n",
    "    print(tree)"
   ]
  },
  {
   "cell_type": "code",
   "execution_count": 8,
   "metadata": {},
   "outputs": [],
   "source": [
    "nltk.app.rdparser()  # 通过这个演示可以辅助理解从顶向下的回溯策略的句法剖析过程"
   ]
  },
  {
   "cell_type": "markdown",
   "metadata": {},
   "source": [
    "### 8.3.2 编写自己的文法"
   ]
  },
  {
   "cell_type": "code",
   "execution_count": 11,
   "metadata": {},
   "outputs": [
    {
     "name": "stdout",
     "output_type": "stream",
     "text": [
      "(S (NP Mary) (VP (V saw) (NP Bob)))\n"
     ]
    }
   ],
   "source": [
    "# 在文本文件创建和编辑语法会更加文法，然后可以利用函数加载到NLTK中进行解析\n",
    "grammar1 = nltk.data.load('mygrammar.cfg')\n",
    "sent = \"Mary saw Bob\".split()\n",
    "rd_parser = nltk.RecursiveDescentParser(grammar1)  # trace = 2 不知道有何作用\n",
    "for i, tree in enumerate(rd_parser.parse(sent)):\n",
    "    print(tree)"
   ]
  },
  {
   "cell_type": "code",
   "execution_count": 12,
   "metadata": {},
   "outputs": [
    {
     "name": "stdout",
     "output_type": "stream",
     "text": [
      "S -> NP VP\n",
      "VP -> V NP\n",
      "VP -> V NP PP\n",
      "PP -> P NP\n",
      "V -> 'saw'\n",
      "V -> 'ate'\n",
      "V -> 'walked'\n",
      "NP -> 'John'\n",
      "NP -> 'Mary'\n",
      "NP -> 'Bob'\n",
      "NP -> Det N\n",
      "NP -> Det N PP\n",
      "Det -> 'a'\n",
      "Det -> 'an'\n",
      "Det -> 'the'\n",
      "Det -> 'my'\n",
      "Det -> 'The'\n",
      "N -> 'man'\n",
      "N -> 'dog'\n",
      "N -> 'cat'\n",
      "N -> 'telescope'\n",
      "N -> 'park'\n",
      "P -> 'in'\n",
      "P -> 'on'\n",
      "P -> 'by'\n",
      "P -> 'with'\n"
     ]
    }
   ],
   "source": [
    "# 输出文法文件中的内容\n",
    "for p in grammar1.productions():\n",
    "    print(p)"
   ]
  },
  {
   "cell_type": "markdown",
   "metadata": {},
   "source": [
    "### 8.3.3 句法结构中的递归\n",
    "\n",
    "RecursiveDescentParser()无法处理形如X→XY的左递归产生式"
   ]
  },
  {
   "cell_type": "code",
   "execution_count": 13,
   "metadata": {},
   "outputs": [],
   "source": [
    "# Ex-2：递归的上下文无关文法\n",
    "grammar2 = nltk.CFG.fromstring(\"\"\"\n",
    "S  -> NP VP\n",
    "NP -> Det Nom | PropN\n",
    "Nom -> Adj Nom | N\n",
    "VP -> V Adj | V NP | V S | V NP PP\n",
    "PP -> P NP\n",
    "PropN -> 'Buster' | 'Chatterer' | 'Joe'\n",
    "Det -> 'the' | 'a'\n",
    "N -> 'bear' | 'squirrel' | 'tree' | 'fish' | 'log'\n",
    "Adj  -> 'angry' | 'frightened' |  'little' | 'tall'\n",
    "V ->  'chased'  | 'saw' | 'said' | 'thought' | 'was' | 'put'\n",
    "P -> 'on'\n",
    "\"\"\")"
   ]
  },
  {
   "cell_type": "code",
   "execution_count": 14,
   "metadata": {},
   "outputs": [
    {
     "name": "stdout",
     "output_type": "stream",
     "text": [
      "(S\n",
      "  (NP (Det the) (Nom (Adj angry) (Nom (N bear))))\n",
      "  (VP\n",
      "    (V chased)\n",
      "    (NP\n",
      "      (Det the)\n",
      "      (Nom (Adj frightened) (Nom (Adj little) (Nom (N squirrel)))))))\n"
     ]
    }
   ],
   "source": [
    "sent = 'the angry bear chased the frightened little squirrel'.split()\n",
    "# RecursiveDescentParser()无法处理形如X→XY的左递归产生式\n",
    "rd_parser = nltk.RecursiveDescentParser(grammar2)\n",
    "for i, tree in enumerate(rd_parser.parse(sent)):\n",
    "    print(tree)"
   ]
  },
  {
   "cell_type": "code",
   "execution_count": null,
   "metadata": {},
   "outputs": [
    {
     "name": "stdout",
     "output_type": "stream",
     "text": [
      "--------------- >第 1 个结构< ---------------\n",
      "(S\n",
      "  (NP (PropN Chatterer))\n",
      "  (VP\n",
      "    (V said)\n",
      "    (S\n",
      "      (NP (PropN Buster))\n",
      "      (VP\n",
      "        (V thought)\n",
      "        (S (NP (Det the) (Nom (N tree))) (VP (V was) (Adj tall)))))))\n"
     ]
    }
   ],
   "source": [
    "sent = 'Chatterer said Buster thought the tree was tall'.split()\n",
    "rd_parser = nltk.RecursiveDescentParser(grammar2)\n",
    "for i, tree in enumerate(rd_parser.parse(sent)):\n",
    "\n",
    "    print(tree)"
   ]
  },
  {
   "cell_type": "markdown",
   "metadata": {},
   "source": [
    "## 8.4 上下文无关文法分析"
   ]
  },
  {
   "cell_type": "code",
   "execution_count": 15,
   "metadata": {},
   "outputs": [],
   "source": [
    "grammar1 = nltk.CFG.fromstring(\"\"\"\n",
    "S -> NP VP\n",
    "VP -> V NP | V NP PP\n",
    "PP -> P NP\n",
    "V -> \"saw\" | \"ate\" | \"walked\"\n",
    "NP -> \"John\" | \"Mary\" | \"Bob\" | Det N | Det N PP\n",
    "Det -> \"a\" | \"an\" | \"the\" | \"my\" | \"The\"\n",
    "N -> \"man\" | \"dog\" | \"cat\" | \"telescope\" | \"park\"\n",
    "P -> \"in\" | \"on\" | \"by\" | \"with\"\n",
    "\"\"\")"
   ]
  },
  {
   "cell_type": "code",
   "execution_count": 16,
   "metadata": {},
   "outputs": [
    {
     "name": "stdout",
     "output_type": "stream",
     "text": [
      "(S (NP Mary) (VP (V saw) (NP (Det a) (N dog))))\n"
     ]
    }
   ],
   "source": [
    "sent = 'Mary saw a dog'.split()\n",
    "sr_parser = nltk.ShiftReduceParser(grammar1)\n",
    "for i, tree in enumerate(sr_parser.parse(sent)):\n",
    "    print(tree)"
   ]
  },
  {
   "cell_type": "code",
   "execution_count": 17,
   "metadata": {},
   "outputs": [
    {
     "name": "stdout",
     "output_type": "stream",
     "text": [
      "Parsing 'Mary saw a dog'\n",
      "    [ * Mary saw a dog]\n",
      "  S [ 'Mary' * saw a dog]\n",
      "  R [ NP * saw a dog]\n",
      "  S [ NP 'saw' * a dog]\n",
      "  R [ NP V * a dog]\n",
      "  S [ NP V 'a' * dog]\n",
      "  R [ NP V Det * dog]\n",
      "  S [ NP V Det 'dog' * ]\n",
      "  R [ NP V Det N * ]\n",
      "  R [ NP V NP * ]\n",
      "  R [ NP VP * ]\n",
      "  R [ S * ]\n",
      "(S (NP Mary) (VP (V saw) (NP (Det a) (N dog))))\n"
     ]
    }
   ],
   "source": [
    "# 跟踪解析的过程\n",
    "sent = 'Mary saw a dog'.split()\n",
    "sr_parser = nltk.ShiftReduceParser(grammar1,trace = 2)\n",
    "for i, tree in enumerate(sr_parser.parse(sent)):\n",
    "    print(tree)"
   ]
  },
  {
   "cell_type": "code",
   "execution_count": 18,
   "metadata": {},
   "outputs": [
    {
     "name": "stdout",
     "output_type": "stream",
     "text": [
      "Warning: VP -> V NP PP will never be used\n"
     ]
    }
   ],
   "source": [
    "nltk.app.srparser()  # 通过这个演示可以辅助理解自底向上的称进归约的句法剖析过程"
   ]
  },
  {
   "cell_type": "markdown",
   "metadata": {},
   "source": [
    "### 8.4.4 符合语句规则的子串表（WFST）\n",
    "\n",
    "上述简单的解析器都存在完整性和效率问题，下面将基于图表分析：即利用动态规划算法来解决这些问题\n",
    "\n",
    "动态规划算法存储中间结果，并且在适当的时候重用，从而显著提高了效率。\n",
    "\n",
    "WFST的缺点：\n",
    "-   WFST本身不是一个分析树\n",
    "-   每个非词汇文法生产式都必须是二元的\n",
    "-   作为一个自下而上的文法，潜在地存在着浪费，因为它会在不符合文法的地方提出成分，后面又会放弃掉错误的成分\n",
    "-   WFST并不能表示句子中的结构歧义（如两个动词短语的读取）\n"
   ]
  },
  {
   "cell_type": "code",
   "execution_count": 20,
   "metadata": {},
   "outputs": [
    {
     "name": "stdout",
     "output_type": "stream",
     "text": [
      "N -> 'elephant'\n",
      "N\n",
      "('elephant',)\n"
     ]
    }
   ],
   "source": [
    "# 可以在文法中直接查找文本中单词所属类别\n",
    "# lhs : left-hand-side; rhs : right-hand-side\n",
    "text = ['I', 'shot', 'an', 'elephant', 'in', 'my', 'pajamas']\n",
    "productions = groucho_grammar.productions(rhs=text[3])\n",
    "for product in productions:\n",
    "    print(product)\n",
    "    print(product.lhs())\n",
    "    print(product.rhs())"
   ]
  },
  {
   "cell_type": "code",
   "execution_count": 21,
   "metadata": {},
   "outputs": [],
   "source": [
    "# Ex8-3 使用符合语句规则的子串表接收器\n",
    "def init_wfst(tokens, grammar):\n",
    "    numtokens = len(tokens)\n",
    "    wfst = [[None for i in range(numtokens + 1)] for j in range(numtokens + 1)]\n",
    "    for i in range(numtokens):\n",
    "        productions = grammar.productions(rhs=tokens[i])\n",
    "        wfst[i][i + 1] = productions[0].lhs()\n",
    "    return wfst"
   ]
  },
  {
   "cell_type": "code",
   "execution_count": 22,
   "metadata": {},
   "outputs": [],
   "source": [
    "def complete_wfst(wfst, tokens, grammar, trace=False):\n",
    "    index = dict((p.rhs(), p.lhs()) for p in grammar.productions())\n",
    "    numtokens = len(tokens)\n",
    "    for span in range(2, numtokens + 1):\n",
    "        for start in range(numtokens + 1 - span):\n",
    "            end = start + span\n",
    "            for mid in range(start + 1, end):\n",
    "                nt1, nt2 = wfst[start][mid], wfst[mid][end]\n",
    "                if nt1 and nt2 and (nt1, nt2) in index:\n",
    "                    wfst[start][end] = index[(nt1, nt2)]\n",
    "                    if trace:\n",
    "                        print(\"[%s] %3s [%s] %3s [%s] ==> [%s] %3s [%s]\" %\n",
    "                              (start, nt1, mid, nt2, end, start, index[(nt1, nt2)], end))\n",
    "    return wfst"
   ]
  },
  {
   "cell_type": "code",
   "execution_count": 23,
   "metadata": {},
   "outputs": [],
   "source": [
    "def display(wfst, tokens):\n",
    "    print('\\nWFST ' + ' '.join([(\"%-4d\" % i) for i in range(1, len(wfst))]))\n",
    "    for i in range(len(wfst) - 1):\n",
    "        print(\"%d   \" % i, end=\" \")\n",
    "        for j in range(1, len(wfst)):\n",
    "            print(\"%-4s\" % (wfst[i][j] or '.'), end=\" \")\n",
    "        print()"
   ]
  },
  {
   "cell_type": "code",
   "execution_count": 25,
   "metadata": {},
   "outputs": [
    {
     "name": "stdout",
     "output_type": "stream",
     "text": [
      "[[None, NP, None, None, None, None, None, None], [None, None, V, None, None, None, None, None], [None, None, None, Det, None, None, None, None], [None, None, None, None, N, None, None, None], [None, None, None, None, None, P, None, None], [None, None, None, None, None, None, Det, None], [None, None, None, None, None, None, None, N], [None, None, None, None, None, None, None, None]]\n",
      "\n",
      "WFST 1    2    3    4    5    6    7   \n",
      "0    NP   .    .    .    .    .    .    \n",
      "1    .    V    .    .    .    .    .    \n",
      "2    .    .    Det  .    .    .    .    \n",
      "3    .    .    .    N    .    .    .    \n",
      "4    .    .    .    .    P    .    .    \n",
      "5    .    .    .    .    .    Det  .    \n",
      "6    .    .    .    .    .    .    N    \n"
     ]
    }
   ],
   "source": [
    "tokens = ['I', 'shot', 'an', 'elephant', 'in', 'my', 'pajamas']\n",
    "wfst0 = init_wfst(tokens, groucho_grammar)\n",
    "display(wfst0, tokens)"
   ]
  },
  {
   "cell_type": "code",
   "execution_count": 26,
   "metadata": {},
   "outputs": [
    {
     "name": "stdout",
     "output_type": "stream",
     "text": [
      "\n",
      "WFST 1    2    3    4    5    6    7   \n",
      "0    NP   .    .    S    .    .    S    \n",
      "1    .    V    .    VP   .    .    VP   \n",
      "2    .    .    Det  NP   .    .    .    \n",
      "3    .    .    .    N    .    .    .    \n",
      "4    .    .    .    .    P    .    PP   \n",
      "5    .    .    .    .    .    Det  NP   \n",
      "6    .    .    .    .    .    .    N    \n"
     ]
    }
   ],
   "source": [
    "wfst1 = complete_wfst(wfst0, tokens, groucho_grammar)\n",
    "display(wfst1, tokens)"
   ]
  },
  {
   "cell_type": "code",
   "execution_count": 27,
   "metadata": {},
   "outputs": [
    {
     "name": "stdout",
     "output_type": "stream",
     "text": [
      "[2] Det [3]   N [4] ==> [2]  NP [4]\n",
      "[5] Det [6]   N [7] ==> [5]  NP [7]\n",
      "[1]   V [2]  NP [4] ==> [1]  VP [4]\n",
      "[4]   P [5]  NP [7] ==> [4]  PP [7]\n",
      "[0]  NP [1]  VP [4] ==> [0]   S [4]\n",
      "[1]  VP [4]  PP [7] ==> [1]  VP [7]\n",
      "[0]  NP [1]  VP [7] ==> [0]   S [7]\n",
      "\n",
      "WFST 1    2    3    4    5    6    7   \n",
      "0    NP   .    .    S    .    .    S    \n",
      "1    .    V    .    VP   .    .    VP   \n",
      "2    .    .    Det  NP   .    .    .    \n",
      "3    .    .    .    N    .    .    .    \n",
      "4    .    .    .    .    P    .    PP   \n",
      "5    .    .    .    .    .    Det  NP   \n",
      "6    .    .    .    .    .    .    N    \n"
     ]
    }
   ],
   "source": [
    "# 显示剖析过程\n",
    "wfst1 = complete_wfst(wfst0, tokens, groucho_grammar, trace=True)\n",
    "display(wfst1, tokens)"
   ]
  },
  {
   "cell_type": "code",
   "execution_count": 29,
   "metadata": {},
   "outputs": [
    {
     "ename": "TypeError",
     "evalue": "app() takes 0 positional arguments but 2 were given",
     "output_type": "error",
     "traceback": [
      "\u001b[1;31m---------------------------------------------------------------------------\u001b[0m",
      "\u001b[1;31mTypeError\u001b[0m                                 Traceback (most recent call last)",
      "\u001b[1;32m<ipython-input-29-56b36ce95b0a>\u001b[0m in \u001b[0;36m<module>\u001b[1;34m\u001b[0m\n\u001b[1;32m----> 1\u001b[1;33m \u001b[0mnltk\u001b[0m\u001b[1;33m.\u001b[0m\u001b[0mapp\u001b[0m\u001b[1;33m.\u001b[0m\u001b[0mchartparser\u001b[0m\u001b[1;33m(\u001b[0m\u001b[0mgroucho_grammar\u001b[0m\u001b[1;33m,\u001b[0m \u001b[0mtokens\u001b[0m\u001b[1;33m)\u001b[0m\u001b[1;33m\u001b[0m\u001b[1;33m\u001b[0m\u001b[0m\n\u001b[0m",
      "\u001b[1;31mTypeError\u001b[0m: app() takes 0 positional arguments but 2 were given"
     ]
    }
   ],
   "source": [
    "nltk.app.chartparser()"
   ]
  },
  {
   "cell_type": "markdown",
   "metadata": {},
   "source": [
    "# 8.5 依存关系 和 依存文法\n",
    "短语结构文法：描述句子中的词和词序列的结合方式\n",
    "\n",
    "-   依存文法：描述词与其他词之间的关系\n",
    "    -    依存关系是一个中心词与其从属之间二元非对称关系。\n",
    "        -   一个句子的中心词通常是动词，其他词直接依赖于中心词或者通过某些路径依赖于中心词"
   ]
  },
  {
   "cell_type": "code",
   "execution_count": 19,
   "metadata": {},
   "outputs": [],
   "source": [
    "# 下面是NLTK为依存文法编码的一种方式，只能捕捉依存关系信息，不能指定依存关系的类型\n",
    "groucho_dep_grammar = nltk.DependencyGrammar.fromstring(\"\"\"\n",
    "'shot' -> 'I' | 'elephant' | 'in'\n",
    "'elephant' -> 'an' | 'in'\n",
    "'in' -> 'pajamas'\n",
    "'pajamas' -> 'my'\n",
    "\"\"\")"
   ]
  },
  {
   "cell_type": "code",
   "execution_count": null,
   "metadata": {},
   "outputs": [
    {
     "name": "stdout",
     "output_type": "stream",
     "text": [
      "(shot I (elephant an (in (pajamas my))))\n",
      "(shot I (elephant an) (in (pajamas my)))\n"
     ]
    }
   ],
   "source": [
    "# 依存关系图是一个投影，若所有的词都按照线性顺序书写，则用边连接这些词并且保证所有的边不交叉。\n",
    "# 一个词及其所有子节点在句子中形成了一个连续的词序列。\n",
    "pdp = nltk.ProjectiveDependencyParser(groucho_dep_grammar)\n",
    "sent = 'I shot an elephant in my pajamas'.split()\n",
    "tree = []\n",
    "for i, tree in enumerate(pdp.parse(sent)):\n",
    "    print(tree)\n",
    "tree.draw()"
   ]
  },
  {
   "cell_type": "markdown",
   "metadata": {},
   "source": [
    "# 8.6 文法开发\n",
    "解析器根据短语结构文法在句子上建立树。"
   ]
  },
  {
   "cell_type": "markdown",
   "metadata": {},
   "source": [
    "## 8.6.1 树库 和 文法：使用宾州树库"
   ]
  },
  {
   "cell_type": "code",
   "execution_count": 39,
   "metadata": {},
   "outputs": [
    {
     "name": "stdout",
     "output_type": "stream",
     "text": [
      "(S\n",
      "  (NP-SBJ\n",
      "    (NP (NNP Pierre) (NNP Vinken))\n",
      "    (, ,)\n",
      "    (ADJP (NP (CD 61) (NNS years)) (JJ old))\n",
      "    (, ,))\n",
      "  (VP\n",
      "    (MD will)\n",
      "    (VP\n",
      "      (VB join)\n",
      "      (NP (DT the) (NN board))\n",
      "      (PP-CLR (IN as) (NP (DT a) (JJ nonexecutive) (NN director)))\n",
      "      (NP-TMP (NNP Nov.) (CD 29))))\n",
      "  (. .))\n"
     ]
    }
   ],
   "source": [
    "from nltk.corpus import treebank\n",
    "\n",
    "t = treebank.parsed_sents('wsj_0001.mrg')[0]\n",
    "print(t)"
   ]
  },
  {
   "cell_type": "code",
   "execution_count": 40,
   "metadata": {},
   "outputs": [],
   "source": [
    "# Ex 8-4 搜索树库找出句子的补语\n",
    "def filter(tree):\n",
    "    child_nodes = [child.label() for child in tree if isinstance(child, nltk.Tree)]\n",
    "    return (tree.label() == 'VP') and ('S' in child_nodes)"
   ]
  },
  {
   "cell_type": "code",
   "execution_count": 43,
   "metadata": {},
   "outputs": [
    {
     "name": "stdout",
     "output_type": "stream",
     "text": [
      "(VP\n",
      "  (VBN named)\n",
      "  (S\n",
      "    (NP-SBJ (-NONE- *-1))\n",
      "    (NP-PRD\n",
      "      (NP (DT a) (JJ nonexecutive) (NN director))\n",
      "      (PP\n",
      "        (IN of)\n",
      "        (NP (DT this) (JJ British) (JJ industrial) (NN conglomerate))))))\n"
     ]
    }
   ],
   "source": [
    "VPS = [\n",
    "    subtree \n",
    "    for tree in treebank.parsed_sents() \n",
    "    for subtree in tree.subtrees(filter)]\n",
    "print(VPS[0])\n",
    "VPS[1].draw()"
   ]
  },
  {
   "cell_type": "code",
   "execution_count": 44,
   "metadata": {},
   "outputs": [
    {
     "name": "stdout",
     "output_type": "stream",
     "text": [
      "%-below-level N:  ['left'] V: ['be']\n",
      "%-from-year N:  ['was'] V: ['declined', 'dropped', 'fell', 'grew', 'increased', 'plunged', 'rose', 'was']\n",
      "%-in-August N:  ['was'] V: ['climbed', 'fell', 'leaping', 'rising', 'rose']\n",
      "%-in-September N:  ['increased'] V: ['climbed', 'declined', 'dropped', 'edged', 'fell', 'grew', 'plunged', 'rose', 'slipped']\n",
      "%-in-week N:  ['declined'] V: ['was']\n",
      "%-to-% N:  ['add', 'added', 'backed', 'be', 'cut', 'go', 'grow', 'increased', 'increasing', 'is', 'offer', 'plummet', 'reduce', 'rejected', 'rise', 'risen', 'shaved', 'wants', 'yield', 'zapping'] V: ['fell', 'rise', 'slipped']\n",
      "%-to-million N:  ['declining'] V: ['advanced', 'climbed', 'cutting', 'declined', 'declining', 'dived', 'dropped', 'edged', 'fell', 'gained', 'grew', 'increased', 'jump', 'jumped', 'plunged', 'rising', 'rose', 'slid', 'slipped', 'soared', 'tumbled']\n",
      "1-to-21 N:  ['dropped'] V: ['dropped']\n",
      "1-to-33 N:  ['gained'] V: ['dropped', 'fell', 'jumped']\n",
      "1-to-4 N:  ['added'] V: ['gained']\n",
      "1-to-47 N:  ['jumped'] V: ['added', 'rose']\n",
      "1-to-point N:  ['ended'] V: ['fell', 'rose']\n",
      "3-to-17 N:  ['lost'] V: ['lost']\n",
      "500,000-in-fines N:  ['paid'] V: ['paid']\n",
      "6.9-on-scale N:  ['registered'] V: ['registered']\n",
      "access-to-AZT N:  ['had'] V: ['had']\n",
      "access-to-arena N:  ['permits'] V: ['lack']\n",
      "activity-in-part N:  ['showed'] V: ['attributed']\n",
      "agreement-in-principle N:  ['reached'] V: ['reached']\n",
      "agreement-with-Inc. N:  ['announced', 'signed'] V: ['signed']\n",
      "agreement-with-creditors N:  ['reached'] V: ['nearing']\n",
      "agreement-with-regulators N:  ['presages', 'reach'] V: ['reach']\n",
      "aid-to-Contras N:  ['renewing'] V: ['renewing']\n",
      "alliance-with-GM N:  ['discussing', 'wrapping'] V: ['forge', 'have', 'negotiating']\n",
      "approval-for-drug N:  ['granted'] V: ['obtain']\n",
      "attention-to-comments N:  ['paid'] V: ['paid']\n",
      "attention-to-concerns N:  ['pay'] V: ['show']\n",
      "attention-to-reports N:  ['paid'] V: ['pay']\n",
      "bid-for-company N:  ['fend', 'launch'] V: ['made', 'make']\n",
      "bid-for-million N:  ['finance'] V: ['had']\n",
      "bids-for-company N:  ['submitted'] V: ['solicit']\n",
      "billion-in-cash N:  ['pay', 'raise'] V: ['raise']\n",
      "billion-of-bills N:  ['sell', 'sold'] V: ['sold']\n",
      "billion-over-years N:  ['total'] V: ['spent']\n",
      "billion-to-billion N:  ['cause', 'place'] V: ['increased', 'rose']\n",
      "business-to-firms N:  ['cutting'] V: ['give', 'transfer']\n",
      "business-with-them N:  ['cease'] V: ['do']\n",
      "cap-on-amount N:  ['eliminate'] V: ['places']\n",
      "cents-to-cents N:  ['be', 'recovering'] V: ['fell', 'rose']\n",
      "change-in-earnings N:  ['had'] V: ['had']\n",
      "changes-for-% N:  ['measures'] V: ['measures', 'monitors']\n",
      "charge-in-quarter N:  ['took'] V: ['had', 'included', 'incur', 'take', 'took']\n",
      "collar-on-trading N:  ['re-establishing'] V: ['reinstating']\n",
      "commitments-from-banks N:  ['secured', 'won'] V: ['obtained']\n",
      "competition-from-competitors N:  ['faced'] V: ['fend']\n",
      "competition-in-production N:  ['reduce'] V: ['reduce']\n",
      "contract-for-parts N:  ['awarded', 'given', 'won'] V: ['received']\n",
      "contract-for-support N:  ['awarded', 'issued'] V: ['received']\n",
      "contract-from-Co. N:  ['received'] V: ['won']\n",
      "contract-with-Warner N:  ['violates'] V: ['terminate']\n",
      "control-of-Inc. N:  ['took'] V: ['seek']\n",
      "decline-for-quarter N:  ['posted'] V: ['reported']\n",
      "decline-in-August N:  ['followed', 'following', 'recorded'] V: ['following']\n",
      "decline-in-earnings N:  ['alleviate', 'report', 'reported'] V: ['expects']\n",
      "declines-in-prices N:  ['reflect'] V: ['had']\n",
      "disputes-with-company N:  ['resolve'] V: ['resolve']\n",
      "domestic-production-through-July N:  ['includes'] V: ['includes']\n",
      "drop-in-earnings N:  ['posted'] V: ['posted']\n",
      "drop-in-profit N:  ['experienced', 'had', 'posted', 'reported', 'reporting'] V: ['posted']\n",
      "earnings-for-companies N:  ['reported'] V: ['reported']\n",
      "earnings-for-quarter N:  ['posting'] V: ['posted', 'report', 'reported']\n",
      "earnings-in-quarter N:  ['projecting'] V: ['had']\n",
      "earnings-of-million N:  ['had', 'include', 'posted', 'reported'] V: ['reported']\n",
      "effect-on-market N:  ['had'] V: ['had']\n",
      "emphasis-on-quality N:  ['be'] V: ['place']\n",
      "financing-for-buy-out N:  ['deliver', 'get'] V: ['obtaining']\n",
      "floor-for-price N:  ['establishes'] V: ['providing']\n",
      "foot-in-door N:  ['wanted'] V: ['getting']\n",
      "funding-for-abortion N:  ['supporting'] V: ['oppose']\n",
      "funds-for-station N:  ['including', 'providing'] V: ['includes']\n",
      "gain-from-sale N:  ['included', 'includes'] V: ['a-Includes', 'including', 'record', 'report']\n",
      "gain-in-profit N:  ['posted', 'reported'] V: ['posted']\n",
      "head-to-head N:  ['going'] V: ['go']\n",
      "impact-on-market N:  ['have'] V: ['has', 'have']\n",
      "impact-on-markets N:  ['had'] V: ['have']\n",
      "impact-on-results N:  ['have'] V: ['have']\n",
      "income-for-quarter N:  ['announcing'] V: ['report']\n",
      "increase-in-earnings N:  ['reported'] V: ['posted']\n",
      "information-from-companies N:  ['requested'] V: ['steal']\n",
      "inquiry-into-activities N:  ['conducted'] V: ['drop']\n",
      "interest-in-company N:  ['bought', 'have', 'holds', 'owning', 'retain'] V: ['represent']\n",
      "interest-in-metals N:  ['create'] V: ['was']\n",
      "interest-on-loans N:  ['computing'] V: ['pay']\n",
      "loans-to-China N:  ['suspended'] V: ['resuming']\n",
      "loss-for-quarter N:  ['announced', 'have', 'post', 'posted', 'reported', 'reporting'] V: ['post', 'report', 'reported']\n",
      "loss-in-quarter N:  ['expect', 'had'] V: ['caused', 'had', 'posted', 'took']\n",
      "losses-in-years N:  ['reported'] V: ['had']\n",
      "markets-in-stocks N:  ['making'] V: ['make']\n",
      "million-before-tax N:  ['reported'] V: ['contributed']\n",
      "million-for-initiative N:  ['attached'] V: ['add']\n",
      "million-for-stake N:  ['pay'] V: ['paid', 'pay', 'putting']\n",
      "million-from-funds N:  ['commit'] V: ['raises']\n",
      "million-from-operations N:  ['included'] V: ['reported']\n",
      "million-from-sale N:  ['including'] V: ['take']\n",
      "million-in-payments N:  ['make', 'owes', 'pay', 'receive'] V: ['fallen']\n",
      "million-of-debt N:  ['add', 'borrow', 'consolidate', 'convert', 'downgraded', 'includes', 'pay', 'raise'] V: ['assume']\n",
      "million-on-revenue N:  ['earned'] V: ['earned', 'was', 'were']\n",
      "million-on-sales N:  ['earned'] V: ['earned', 'reach', 'totaled', 'was', 'were']\n",
      "million-to-million N:  ['be', 'bills', 'cost', 'pump', 'sell', 'totaled'] V: ['declined', 'fell', 'spend', 'tumbled']\n",
      "month-in-time N:  ['delivered'] V: ['delivered']\n",
      "net-on-revenue N:  ['posted'] V: ['reported']\n",
      "nothing-about-it N:  ['knew'] V: ['doing']\n",
      "offer-for-all N:  ['begun', 'make'] V: ['begin']\n",
      "offer-for-shares N:  ['began', 'extended'] V: ['launched', 'made']\n",
      "offer-for-stock N:  ['extended'] V: ['make']\n",
      "offer-from-group N:  ['rejected'] V: ['received']\n",
      "office-in-Worth N:  ['Call'] V: ['has']\n",
      "pace-with-inflation N:  ['keep', 'keeping'] V: ['keep']\n",
      "payment-on-million N:  ['make'] V: ['make']\n",
      "payments-on-debt N:  ['cover', 'make'] V: ['make']\n",
      "president-in-charge N:  ['is', 'named'] V: ['been']\n",
      "pressure-on-government N:  ['keep'] V: ['keep', 'put']\n",
      "pressure-on-prices N:  ['suffered'] V: ['keep', 'put']\n",
      "price-for-incentives N:  ['paid'] V: ['paid']\n",
      "prices-on-market N:  ['push'] V: ['bring']\n",
      "profit-for-year N:  ['report'] V: ['report']\n",
      "profit-from-discontinued N:  ['had'] V: ['was']\n",
      "profit-in-quarter N:  ['indicates'] V: ['produce', 'recorded']\n",
      "projections-for-year N:  ['slashed'] V: ['exceed']\n",
      "provisions-for-loans N:  ['taken'] V: ['made']\n",
      "rates-to-% N:  ['boosting'] V: ['increase', 'pushed', 'raised']\n",
      "reporter-in-bureau N:  ['is'] V: ['is']\n",
      "restrictions-on-use N:  ['waiving'] V: ['impose']\n",
      "revenue-for-year N:  ['projected'] V: ['had']\n",
      "revenue-in-quarter N:  ['expects'] V: ['had']\n",
      "sales-in-excess N:  ['combined'] V: ['had']\n",
      "sales-in-quarter N:  ['had'] V: ['increasing']\n",
      "sales-of-million N:  ['expected', 'had', 'has', 'have', 'posted'] V: ['had']\n",
      "salvo-in-battle N:  ['marking'] V: ['marking']\n",
      "services-for-customers N:  ['offering'] V: ['provide']\n",
      "shareholder-in-bank N:  ['become'] V: ['become']\n",
      "stake-in-Airlines N:  ['acquiring', 'buy', 'raise'] V: ['buy']\n",
      "stake-in-Mixte N:  ['bring'] V: ['boost']\n",
      "stake-in-Rally N:  ['hold'] V: ['had']\n",
      "stake-in-company N:  ['bought', 'building', 'built', 'buying', 'give', 'hold', 'obtaining', 'own', 'owns', 'raised', 'take'] V: ['accumulating', 'had', 'has', 'holds', 'own']\n",
      "stake-in-concern N:  ['acquires', 'lowered'] V: ['retaining']\n",
      "stake-in-unit N:  ['sell'] V: ['acquire']\n",
      "stake-in-venture N:  ['has', 'hold', 'holds'] V: ['held']\n",
      "suit-against-Keating N:  ['press'] V: ['brought']\n",
      "swings-in-market N:  ['cause', 'create'] V: ['cause']\n",
      "system-for-city N:  ['design'] V: ['design']\n",
      "system-in-Pakistan N:  ['operate'] V: ['operate']\n",
      "time-for-Congress N:  ['is'] V: ['buy', 'buys']\n",
      "venture-with-Co. N:  ['started'] V: ['started']\n",
      "ventures-with-companies N:  ['established'] V: ['form']\n",
      "verdict-in-case N:  ['is', 'won'] V: ['won']\n",
      "volatility-in-stocks N:  ['ignoring'] V: ['see']\n",
      "vote-on-issue N:  ['allow'] V: ['prevent']\n",
      "way-for-declines N:  ['open'] V: ['pave']\n",
      "writer-in-York N:  ['is'] V: ['is']\n",
      "yen-to-yen N:  ['shed'] V: ['advanced', 'fell', 'gained', 'lost', 'rose']\n"
     ]
    }
   ],
   "source": [
    "# Prepositional Phrase Attachment Corpus. 介词短语附着语料库，是特别动词配价的信息源\n",
    "# 搜索语料库，找出具有固定介词和名词和介词短语对，其中介绍短语附着到VP还是NP由选择的动词决定\n",
    "from collections import defaultdict\n",
    "\n",
    "entries = nltk.corpus.ppattach.attachments('training')\n",
    "table = defaultdict(lambda: defaultdict(set))\n",
    "for entry in entries:\n",
    "    key = entry.noun1 + '-' + entry.prep + '-' + entry.noun2\n",
    "    table[key][entry.attachment].add(entry.verb)\n",
    "\n",
    "for key in sorted(table):\n",
    "    if len(table[key]) > 1:\n",
    "        print(key, 'N: ', sorted(table[key]['N']), 'V:', sorted(table[key]['V']))"
   ]
  },
  {
   "cell_type": "code",
   "execution_count": 50,
   "metadata": {},
   "outputs": [
    {
     "name": "stdout",
     "output_type": "stream",
     "text": [
      "key= zip-in-way\n",
      "table[key]=  defaultdict(<class 'set'>, {'V': {'requires'}})\n",
      "table['zip-in-way']=  defaultdict(<class 'set'>, {'V': {'requires'}})\n",
      "len(table[key])=  1\n",
      "table['access-to-AZT']=  defaultdict(<class 'set'>, {'V': {'had'}, 'N': {'had'}})\n",
      "table['offer-from-group']=  defaultdict(<class 'set'>, {'V': {'received'}, 'N': {'rejected'}})\n"
     ]
    }
   ],
   "source": [
    "print(\"key=\", key)\n",
    "print(\"table[key]= \", table[key])\n",
    "print(\"table['zip-in-way']= \", table['zip-in-way'])\n",
    "print(\"len(table[key])= \", len(table[key]))\n",
    "print(\"table['access-to-AZT']= \", table['access-to-AZT'])\n",
    "print(\"table['offer-from-group']= \", table['offer-from-group'])"
   ]
  },
  {
   "cell_type": "code",
   "execution_count": 51,
   "metadata": {},
   "outputs": [],
   "source": [
    "# 现代汉语中央研究院平衡语料库中的10000句已经分析的句子\n",
    "nltk.corpus.sinica_treebank.parsed_sents()[3450].draw()"
   ]
  },
  {
   "cell_type": "markdown",
   "metadata": {},
   "source": [
    "## 8.6.2 有害的歧义"
   ]
  },
  {
   "cell_type": "code",
   "execution_count": 52,
   "metadata": {},
   "outputs": [],
   "source": [
    "grammar = nltk.CFG.fromstring(\"\"\"\n",
    "S -> NP V NP\n",
    "NP -> NP Sbar\n",
    "Sbar -> NP V\n",
    "NP -> 'fish'\n",
    "V -> 'fish'\n",
    "\"\"\")"
   ]
  },
  {
   "cell_type": "code",
   "execution_count": null,
   "metadata": {},
   "outputs": [
    {
     "name": "stdout",
     "output_type": "stream",
     "text": [
      "--------------- >第 1 个结构< ---------------\n",
      "(S (NP fish) (V fish) (NP (NP fish) (Sbar (NP fish) (V fish))))\n",
      "--------------- >第 2 个结构< ---------------\n",
      "(S (NP (NP fish) (Sbar (NP fish) (V fish))) (V fish) (NP fish))\n"
     ]
    }
   ],
   "source": [
    "# 当fish的数量为（3，5，7...），分析树的数量是（1，2，5...），这是Catalan数\n",
    "tokens = ['fish'] * 5\n",
    "cp = nltk.ChartParser(grammar)\n",
    "for i, tree in enumerate(cp.parse(tokens)):\n",
    "\n",
    "    print(tree)\n",
    "tree.draw()"
   ]
  },
  {
   "cell_type": "markdown",
   "metadata": {},
   "source": [
    "## 8.6.3 加权语法"
   ]
  },
  {
   "cell_type": "code",
   "execution_count": 55,
   "metadata": {},
   "outputs": [],
   "source": [
    "# Ex8-5: 宾州树库样本中 give 和 gave 的用法\n",
    "# 检查所有包含 give 介词格和双宾语结构的实例\n",
    "def give(t):\n",
    "    result = t.label() == 'VP' and len(t) > 2 and t[1].label() == 'NP'  # give 双宾语结构\n",
    "    result = result and (t[2].label() == 'PP-DTV' or t[2].label() == 'NP')  # give 介绍格\n",
    "    result = result and ('give' in t[0].leaves() or 'gave' in t[0].leaves())  # give和gave的用法\n",
    "    return result"
   ]
  },
  {
   "cell_type": "code",
   "execution_count": 56,
   "metadata": {},
   "outputs": [],
   "source": [
    "def sent(tree):\n",
    "    return ' '.join(token for token in tree.leaves() if token[0] not in '*-0')"
   ]
  },
  {
   "cell_type": "code",
   "execution_count": 57,
   "metadata": {},
   "outputs": [],
   "source": [
    "def print_node(t, width):\n",
    "    output = '%s %s: %s / %s: %s' % (\n",
    "        sent(t[0]), t[1].label(), sent(t[1]), t[2].label(), sent(t[2]))\n",
    "    if len(output) > width:\n",
    "        output = output[:width] + '...'\n",
    "    print(output)"
   ]
  },
  {
   "cell_type": "code",
   "execution_count": 58,
   "metadata": {},
   "outputs": [
    {
     "name": "stdout",
     "output_type": "stream",
     "text": [
      "gave NP: the chefs / NP: a standing ovation\n",
      "give NP: advertisers / NP: discounts for maintaining or increasing ad sp...\n",
      "give NP: it / PP-DTV: to the politicians\n",
      "gave NP: them / NP: similar help\n",
      "give NP: them / NP: \n",
      "give NP: only French history questions / PP-DTV: to students in a Europe...\n",
      "give NP: federal judges / NP: a raise\n",
      "give NP: consumers / NP: the straight scoop on the U.S. waste crisis\n",
      "gave NP: Mitsui / NP: access to a high-tech medical product\n",
      "give NP: Mitsubishi / NP: a window on the U.S. glass industry\n",
      "give NP: much thought / PP-DTV: to the rates she was receiving , nor to ...\n",
      "give NP: your Foster Savings Institution / NP: the gift of hope and free...\n",
      "give NP: market operators / NP: the authority to suspend trading in futu...\n",
      "gave NP: quick approval / PP-DTV: to $ 3.18 billion in supplemental appr...\n",
      "give NP: the Transportation Department / NP: up to 50 days to review any...\n",
      "give NP: the president / NP: such power\n",
      "give NP: me / NP: the heebie-jeebies\n",
      "give NP: holders / NP: the right , but not the obligation , to buy a cal...\n",
      "gave NP: Mr. Thomas / NP: only a `` qualified '' rating , rather than ``...\n",
      "give NP: the president / NP: line-item veto power\n",
      "(VP\n",
      "  (VB give)\n",
      "  (NP (DT the) (NN president))\n",
      "  (NP (JJ line-item) (NN veto) (NN power))\n",
      "  (ADVP (-NONE- *T*-2)))\n"
     ]
    }
   ],
   "source": [
    "for tree in nltk.corpus.treebank.parsed_sents():\n",
    "    for t in tree.subtrees(give):\n",
    "        print_node(t, 72)\n",
    "print(t)"
   ]
  },
  {
   "cell_type": "code",
   "execution_count": 59,
   "metadata": {},
   "outputs": [],
   "source": [
    "# Ex8-6: 定义一个概率上下文无关文法（PCFG）\n",
    "# 只是演示了一个概率上下文无关文法的作用，也是个玩具文法\n",
    "grammar = nltk.PCFG.fromstring(\"\"\"\n",
    "S    -> NP VP              [1.0]\n",
    "VP   -> TV NP              [0.4]\n",
    "VP   -> IV                 [0.3]\n",
    "VP   -> DatV NP NP         [0.3]\n",
    "TV   -> 'saw'              [1.0]\n",
    "IV   -> 'ate'              [1.0]\n",
    "DatV -> 'gave'             [1.0]\n",
    "NP   -> 'telescopes'       [0.8]\n",
    "NP   -> 'Jack'             [0.2]\n",
    "\"\"\")"
   ]
  },
  {
   "cell_type": "code",
   "execution_count": null,
   "metadata": {},
   "outputs": [
    {
     "name": "stdout",
     "output_type": "stream",
     "text": [
      "--------------- >第 1 个结构< ---------------\n",
      "(S (NP Jack) (VP (TV saw) (NP telescopes))) (p=0.064)\n"
     ]
    }
   ],
   "source": [
    "viterbi_parser = nltk.ViterbiParser(grammar)\n",
    "for i, tree in enumerate(viterbi_parser.parse(['Jack', 'saw', 'telescopes'])):\n",
    "\n",
    "    print(tree)\n",
    "tree.draw()    "
   ]
  }
 ],
 "metadata": {
  "kernelspec": {
   "display_name": "base",
   "language": "python",
   "name": "python3"
  },
  "language_info": {
   "codemirror_mode": {
    "name": "ipython",
    "version": 3
   },
   "file_extension": ".py",
   "mimetype": "text/x-python",
   "name": "python",
   "nbconvert_exporter": "python",
   "pygments_lexer": "ipython3",
   "version": "3.12.4"
  },
  "orig_nbformat": 2
 },
 "nbformat": 4,
 "nbformat_minor": 2
}
